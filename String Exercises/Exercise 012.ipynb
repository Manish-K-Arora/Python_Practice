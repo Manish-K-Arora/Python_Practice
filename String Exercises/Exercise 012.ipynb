{
 "cells": [
  {
   "cell_type": "markdown",
   "id": "cbe85226",
   "metadata": {},
   "source": [
    "# 12. split the entire string in two parts, using the comma as a delimiter."
   ]
  },
  {
   "cell_type": "code",
   "execution_count": 1,
   "id": "1a633e73",
   "metadata": {},
   "outputs": [],
   "source": [
    "my_string = \"In 2030, Manan will be Billionaire\"\n",
    "\n",
    "# print(my_string[])"
   ]
  },
  {
   "cell_type": "markdown",
   "id": "03b4e989",
   "metadata": {},
   "source": [
    "# Solution:"
   ]
  },
  {
   "cell_type": "code",
   "execution_count": 2,
   "id": "9a8d16ac",
   "metadata": {},
   "outputs": [
    {
     "name": "stdout",
     "output_type": "stream",
     "text": [
      "['In 2030', ' Manan will be Billionaire']\n"
     ]
    }
   ],
   "source": [
    "print(my_string.split(','))"
   ]
  }
 ],
 "metadata": {
  "kernelspec": {
   "display_name": "Python 3 (ipykernel)",
   "language": "python",
   "name": "python3"
  },
  "language_info": {
   "codemirror_mode": {
    "name": "ipython",
    "version": 3
   },
   "file_extension": ".py",
   "mimetype": "text/x-python",
   "name": "python",
   "nbconvert_exporter": "python",
   "pygments_lexer": "ipython3",
   "version": "3.10.8"
  }
 },
 "nbformat": 4,
 "nbformat_minor": 5
}

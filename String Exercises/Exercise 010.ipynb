{
 "cells": [
  {
   "cell_type": "markdown",
   "id": "48f50c55",
   "metadata": {},
   "source": [
    "# 10. remove all spaces (single Space characters from the keyboard) from the string."
   ]
  },
  {
   "cell_type": "code",
   "execution_count": 1,
   "id": "915a2671",
   "metadata": {},
   "outputs": [],
   "source": [
    "my_string = \"Lets start coding step by step.\"\n",
    "\n",
    "# print(my_string[])"
   ]
  },
  {
   "cell_type": "markdown",
   "id": "c90ca7e3",
   "metadata": {},
   "source": [
    "# Solution:"
   ]
  },
  {
   "cell_type": "code",
   "execution_count": 2,
   "id": "af84be1e",
   "metadata": {},
   "outputs": [
    {
     "name": "stdout",
     "output_type": "stream",
     "text": [
      "Letsstartcodingstepbystep.\n"
     ]
    }
   ],
   "source": [
    "print(my_string.replace(\" \",\"\"))"
   ]
  }
 ],
 "metadata": {
  "kernelspec": {
   "display_name": "Python 3 (ipykernel)",
   "language": "python",
   "name": "python3"
  },
  "language_info": {
   "codemirror_mode": {
    "name": "ipython",
    "version": 3
   },
   "file_extension": ".py",
   "mimetype": "text/x-python",
   "name": "python",
   "nbconvert_exporter": "python",
   "pygments_lexer": "ipython3",
   "version": "3.10.8"
  }
 },
 "nbformat": 4,
 "nbformat_minor": 5
}

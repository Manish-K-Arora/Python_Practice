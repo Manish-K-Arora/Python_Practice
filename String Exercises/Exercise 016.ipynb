{
 "cells": [
  {
   "cell_type": "markdown",
   "id": "8cf790eb",
   "metadata": {},
   "source": [
    "# 16. use string formatting with the % operator to map the values of 2024, Swiss and Family to the corresponding formatting operators."
   ]
  },
  {
   "cell_type": "code",
   "execution_count": 2,
   "id": "db935b32",
   "metadata": {},
   "outputs": [],
   "source": [
    "my_string = \"In %s, I will go to %s with my %s.\"\n",
    "\n",
    "# print(my_string[])"
   ]
  },
  {
   "cell_type": "markdown",
   "id": "a0394926",
   "metadata": {},
   "source": [
    "# Solution:"
   ]
  },
  {
   "cell_type": "code",
   "execution_count": 3,
   "id": "c556bf2f",
   "metadata": {},
   "outputs": [
    {
     "name": "stdout",
     "output_type": "stream",
     "text": [
      "In 2024, I will go to Swiss with my Family.\n"
     ]
    }
   ],
   "source": [
    "print(my_string %(2024, 'Swiss', 'Family'))"
   ]
  }
 ],
 "metadata": {
  "kernelspec": {
   "display_name": "Python 3 (ipykernel)",
   "language": "python",
   "name": "python3"
  },
  "language_info": {
   "codemirror_mode": {
    "name": "ipython",
    "version": 3
   },
   "file_extension": ".py",
   "mimetype": "text/x-python",
   "name": "python",
   "nbconvert_exporter": "python",
   "pygments_lexer": "ipython3",
   "version": "3.10.8"
  }
 },
 "nbformat": 4,
 "nbformat_minor": 5
}

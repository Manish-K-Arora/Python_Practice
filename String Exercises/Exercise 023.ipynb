{
 "cells": [
  {
   "cell_type": "markdown",
   "id": "c5e11b23",
   "metadata": {},
   "source": [
    "# 23. use slicing and insert the correct code in order to return every 7th character of the string, starting with the first character."
   ]
  },
  {
   "cell_type": "code",
   "execution_count": 1,
   "id": "79d97fa8",
   "metadata": {},
   "outputs": [],
   "source": [
    "my_string = \"In 2024, I will go to Swiss with my Family.\"\n",
    "\n",
    "# print(my_string[])"
   ]
  },
  {
   "cell_type": "markdown",
   "id": "6784b798",
   "metadata": {},
   "source": [
    "# Solution:\n"
   ]
  },
  {
   "cell_type": "code",
   "execution_count": 2,
   "id": "d2bff205",
   "metadata": {},
   "outputs": [
    {
     "name": "stdout",
     "output_type": "stream",
     "text": [
      "I,l w .\n"
     ]
    }
   ],
   "source": [
    "print(my_string[::7])"
   ]
  }
 ],
 "metadata": {
  "kernelspec": {
   "display_name": "Python 3 (ipykernel)",
   "language": "python",
   "name": "python3"
  },
  "language_info": {
   "codemirror_mode": {
    "name": "ipython",
    "version": 3
   },
   "file_extension": ".py",
   "mimetype": "text/x-python",
   "name": "python",
   "nbconvert_exporter": "python",
   "pygments_lexer": "ipython3",
   "version": "3.10.8"
  }
 },
 "nbformat": 4,
 "nbformat_minor": 5
}

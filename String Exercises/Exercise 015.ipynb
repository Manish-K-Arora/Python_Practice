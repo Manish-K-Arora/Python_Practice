{
 "cells": [
  {
   "cell_type": "markdown",
   "id": "3ad8c2ad",
   "metadata": {},
   "source": [
    "# 15. convert the first letter of each word in the string to uppercase."
   ]
  },
  {
   "cell_type": "code",
   "execution_count": 1,
   "id": "dd83d0a4",
   "metadata": {},
   "outputs": [],
   "source": [
    "my_string = \"Lets start coding step by step.\"\n",
    "\n",
    "# print(my_string[])"
   ]
  },
  {
   "cell_type": "markdown",
   "id": "c4dfd7f5",
   "metadata": {},
   "source": [
    "# Solution:"
   ]
  },
  {
   "cell_type": "code",
   "execution_count": 3,
   "id": "827ba42f",
   "metadata": {},
   "outputs": [
    {
     "name": "stdout",
     "output_type": "stream",
     "text": [
      "Lets Start Coding Step By Step.\n"
     ]
    }
   ],
   "source": [
    "print(my_string.title())"
   ]
  }
 ],
 "metadata": {
  "kernelspec": {
   "display_name": "Python 3 (ipykernel)",
   "language": "python",
   "name": "python3"
  },
  "language_info": {
   "codemirror_mode": {
    "name": "ipython",
    "version": 3
   },
   "file_extension": ".py",
   "mimetype": "text/x-python",
   "name": "python",
   "nbconvert_exporter": "python",
   "pygments_lexer": "ipython3",
   "version": "3.10.8"
  }
 },
 "nbformat": 4,
 "nbformat_minor": 5
}

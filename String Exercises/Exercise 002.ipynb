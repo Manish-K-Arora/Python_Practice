{
 "cells": [
  {
   "cell_type": "markdown",
   "id": "4fdab17d",
   "metadata": {},
   "source": [
    "# 2. Given the code below, insert the correct positive index in print statement in order to return the comma character from the string."
   ]
  },
  {
   "cell_type": "code",
   "execution_count": 2,
   "id": "e3e2ee75",
   "metadata": {},
   "outputs": [],
   "source": [
    "my_string = \"In 2008, I started learning coding.\"\n",
    "\n",
    "print(my_string[])"
   ]
  },
  {
   "cell_type": "markdown",
   "id": "71c2a7c3",
   "metadata": {},
   "source": [
    "# Solution:"
   ]
  },
  {
   "cell_type": "code",
   "execution_count": 3,
   "id": "de54f8e3",
   "metadata": {},
   "outputs": [
    {
     "name": "stdout",
     "output_type": "stream",
     "text": [
      ",\n"
     ]
    }
   ],
   "source": [
    "print(my_string[7])"
   ]
  }
 ],
 "metadata": {
  "kernelspec": {
   "display_name": "Python 3 (ipykernel)",
   "language": "python",
   "name": "python3"
  },
  "language_info": {
   "codemirror_mode": {
    "name": "ipython",
    "version": 3
   },
   "file_extension": ".py",
   "mimetype": "text/x-python",
   "name": "python",
   "nbconvert_exporter": "python",
   "pygments_lexer": "ipython3",
   "version": "3.10.8"
  }
 },
 "nbformat": 4,
 "nbformat_minor": 5
}

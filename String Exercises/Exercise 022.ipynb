{
 "cells": [
  {
   "cell_type": "markdown",
   "id": "d65a86ba",
   "metadata": {},
   "source": [
    "# 22. use slicing and insert the correct code in order to return the entire string in reversed order."
   ]
  },
  {
   "cell_type": "code",
   "execution_count": 1,
   "id": "66544eae",
   "metadata": {},
   "outputs": [],
   "source": [
    "my_string = \"In 2024, I will go to Swiss with my Family.\"\n",
    "\n",
    "# print(my_string[])"
   ]
  },
  {
   "cell_type": "markdown",
   "id": "ec1a3c44",
   "metadata": {},
   "source": [
    "# Solution:"
   ]
  },
  {
   "cell_type": "code",
   "execution_count": 2,
   "id": "84c78733",
   "metadata": {},
   "outputs": [
    {
     "name": "stdout",
     "output_type": "stream",
     "text": [
      ".ylimaF ym htiw ssiwS ot og lliw I ,4202 nI\n"
     ]
    }
   ],
   "source": [
    "print(my_string[::-1])"
   ]
  }
 ],
 "metadata": {
  "kernelspec": {
   "display_name": "Python 3 (ipykernel)",
   "language": "python",
   "name": "python3"
  },
  "language_info": {
   "codemirror_mode": {
    "name": "ipython",
    "version": 3
   },
   "file_extension": ".py",
   "mimetype": "text/x-python",
   "name": "python",
   "nbconvert_exporter": "python",
   "pygments_lexer": "ipython3",
   "version": "3.10.8"
  }
 },
 "nbformat": 4,
 "nbformat_minor": 5
}

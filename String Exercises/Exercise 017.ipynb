{
 "cells": [
  {
   "cell_type": "markdown",
   "id": "21ec9fd3",
   "metadata": {},
   "source": [
    "# 17. use string formatting with the format() method to map the values of 2024, Swiss and Family to the corresponding formatting operators."
   ]
  },
  {
   "cell_type": "code",
   "execution_count": 1,
   "id": "77a345ff",
   "metadata": {},
   "outputs": [],
   "source": [
    "my_string = \"In {}, I will go to {} with my {}.\"\n",
    "\n",
    "# print(my_string[])"
   ]
  },
  {
   "cell_type": "markdown",
   "id": "5c119dcd",
   "metadata": {},
   "source": [
    "# Solution:"
   ]
  },
  {
   "cell_type": "code",
   "execution_count": 2,
   "id": "72a108dd",
   "metadata": {},
   "outputs": [
    {
     "name": "stdout",
     "output_type": "stream",
     "text": [
      "In 2024, I will go to Swiss with my Family.\n"
     ]
    }
   ],
   "source": [
    "print(my_string.format(2024,\"Swiss\",\"Family\"))"
   ]
  }
 ],
 "metadata": {
  "kernelspec": {
   "display_name": "Python 3 (ipykernel)",
   "language": "python",
   "name": "python3"
  },
  "language_info": {
   "codemirror_mode": {
    "name": "ipython",
    "version": 3
   },
   "file_extension": ".py",
   "mimetype": "text/x-python",
   "name": "python",
   "nbconvert_exporter": "python",
   "pygments_lexer": "ipython3",
   "version": "3.10.8"
  }
 },
 "nbformat": 4,
 "nbformat_minor": 5
}

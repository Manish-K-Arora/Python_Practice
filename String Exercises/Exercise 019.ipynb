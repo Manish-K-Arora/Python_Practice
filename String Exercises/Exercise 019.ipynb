{
 "cells": [
  {
   "cell_type": "markdown",
   "id": "e84424e9",
   "metadata": {},
   "source": [
    "# 19. use slicing and insert the correct code in order to return the substring Swiss from the string. Use negative indexes."
   ]
  },
  {
   "cell_type": "code",
   "execution_count": 1,
   "id": "9fab9946",
   "metadata": {},
   "outputs": [],
   "source": [
    "my_string = \"In 2024, I will go to Swiss with my Family.\"\n",
    "\n",
    "# print(my_string[])"
   ]
  },
  {
   "cell_type": "markdown",
   "id": "076334c7",
   "metadata": {},
   "source": [
    "# Solution:"
   ]
  },
  {
   "cell_type": "code",
   "execution_count": 2,
   "id": "c72c2954",
   "metadata": {},
   "outputs": [
    {
     "name": "stdout",
     "output_type": "stream",
     "text": [
      " Swiss\n"
     ]
    }
   ],
   "source": [
    "print(my_string[-22:-16])"
   ]
  }
 ],
 "metadata": {
  "kernelspec": {
   "display_name": "Python 3 (ipykernel)",
   "language": "python",
   "name": "python3"
  },
  "language_info": {
   "codemirror_mode": {
    "name": "ipython",
    "version": 3
   },
   "file_extension": ".py",
   "mimetype": "text/x-python",
   "name": "python",
   "nbconvert_exporter": "python",
   "pygments_lexer": "ipython3",
   "version": "3.10.8"
  }
 },
 "nbformat": 4,
 "nbformat_minor": 5
}

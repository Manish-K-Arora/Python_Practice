{
 "cells": [
  {
   "cell_type": "markdown",
   "id": "40941143",
   "metadata": {},
   "source": [
    "# 25. use slicing and insert the correct code in order to return the string except the last 4 characters. Use a single, negative index!"
   ]
  },
  {
   "cell_type": "code",
   "execution_count": 1,
   "id": "73ab36d4",
   "metadata": {},
   "outputs": [],
   "source": [
    "my_string = \"In 2024, I will go to Swiss with my Family.\"\n",
    "\n",
    "# print(my_string[])"
   ]
  },
  {
   "cell_type": "markdown",
   "id": "1700c04e",
   "metadata": {},
   "source": [
    "# Solution:"
   ]
  },
  {
   "cell_type": "code",
   "execution_count": 3,
   "id": "4afeb7a4",
   "metadata": {},
   "outputs": [
    {
     "name": "stdout",
     "output_type": "stream",
     "text": [
      "In 2024, I will go to Swiss with my Fam\n"
     ]
    }
   ],
   "source": [
    "print(my_string[:-4])"
   ]
  }
 ],
 "metadata": {
  "kernelspec": {
   "display_name": "Python 3 (ipykernel)",
   "language": "python",
   "name": "python3"
  },
  "language_info": {
   "codemirror_mode": {
    "name": "ipython",
    "version": 3
   },
   "file_extension": ".py",
   "mimetype": "text/x-python",
   "name": "python",
   "nbconvert_exporter": "python",
   "pygments_lexer": "ipython3",
   "version": "3.10.8"
  }
 },
 "nbformat": 4,
 "nbformat_minor": 5
}

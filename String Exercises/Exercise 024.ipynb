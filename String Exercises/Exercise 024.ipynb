{
 "cells": [
  {
   "cell_type": "markdown",
   "id": "1f411f59",
   "metadata": {},
   "source": [
    "# 24. use slicing and insert the correct code in order to return the string except the first 10 characters. Use a single, positive index!"
   ]
  },
  {
   "cell_type": "code",
   "execution_count": 1,
   "id": "03dce7e2",
   "metadata": {},
   "outputs": [],
   "source": [
    "my_string = \"In 2024, I will go to Swiss with my Family.\"\n",
    "\n",
    "# print(my_string[])"
   ]
  },
  {
   "cell_type": "markdown",
   "id": "69a5f795",
   "metadata": {},
   "source": [
    "# Solution:"
   ]
  },
  {
   "cell_type": "code",
   "execution_count": 2,
   "id": "091c013b",
   "metadata": {},
   "outputs": [
    {
     "name": "stdout",
     "output_type": "stream",
     "text": [
      " will go to Swiss with my Family.\n"
     ]
    }
   ],
   "source": [
    "print(my_string[10:])"
   ]
  }
 ],
 "metadata": {
  "kernelspec": {
   "display_name": "Python 3 (ipykernel)",
   "language": "python",
   "name": "python3"
  },
  "language_info": {
   "codemirror_mode": {
    "name": "ipython",
    "version": 3
   },
   "file_extension": ".py",
   "mimetype": "text/x-python",
   "name": "python",
   "nbconvert_exporter": "python",
   "pygments_lexer": "ipython3",
   "version": "3.10.8"
  }
 },
 "nbformat": 4,
 "nbformat_minor": 5
}

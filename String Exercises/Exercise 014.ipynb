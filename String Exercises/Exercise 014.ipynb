{
 "cells": [
  {
   "cell_type": "markdown",
   "id": "e10a9837",
   "metadata": {},
   "source": [
    "# 14. concatenate my_string with the following string: second_string = \"Lets do it!\""
   ]
  },
  {
   "cell_type": "code",
   "execution_count": 3,
   "id": "f5e0f13b",
   "metadata": {},
   "outputs": [],
   "source": [
    "my_string = \"Lets start coding step by step.\"\n",
    "second_string = \"Lets do it!\"\n",
    "\n",
    "# print(my_string[])"
   ]
  },
  {
   "cell_type": "markdown",
   "id": "c2cf1a82",
   "metadata": {},
   "source": [
    "# Solution: "
   ]
  },
  {
   "cell_type": "code",
   "execution_count": 6,
   "id": "82a27eb5",
   "metadata": {},
   "outputs": [
    {
     "name": "stdout",
     "output_type": "stream",
     "text": [
      "Lets start coding step by step.Lets do it!\n"
     ]
    }
   ],
   "source": [
    "print(my_string + second_string)"
   ]
  }
 ],
 "metadata": {
  "kernelspec": {
   "display_name": "Python 3 (ipykernel)",
   "language": "python",
   "name": "python3"
  },
  "language_info": {
   "codemirror_mode": {
    "name": "ipython",
    "version": 3
   },
   "file_extension": ".py",
   "mimetype": "text/x-python",
   "name": "python",
   "nbconvert_exporter": "python",
   "pygments_lexer": "ipython3",
   "version": "3.10.8"
  }
 },
 "nbformat": 4,
 "nbformat_minor": 5
}

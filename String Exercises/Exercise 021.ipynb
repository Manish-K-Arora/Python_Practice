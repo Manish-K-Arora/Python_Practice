{
 "cells": [
  {
   "cell_type": "markdown",
   "id": "f8d03c25",
   "metadata": {},
   "source": [
    "# 21. use slicing and insert the correct code in order to return the last 9 characters of the string. Use a single, negative index!"
   ]
  },
  {
   "cell_type": "code",
   "execution_count": 1,
   "id": "4843fd23",
   "metadata": {},
   "outputs": [],
   "source": [
    "my_string = \"In 2024, I will go to Swiss with my Family.\"\n",
    "\n",
    "# print(my_string[])"
   ]
  },
  {
   "cell_type": "markdown",
   "id": "d32a7f15",
   "metadata": {},
   "source": [
    "# Solution:"
   ]
  },
  {
   "cell_type": "code",
   "execution_count": 2,
   "id": "43d6f5b8",
   "metadata": {},
   "outputs": [
    {
     "name": "stdout",
     "output_type": "stream",
     "text": [
      "y Family.\n"
     ]
    }
   ],
   "source": [
    "print(my_string[-9:])"
   ]
  }
 ],
 "metadata": {
  "kernelspec": {
   "display_name": "Python 3 (ipykernel)",
   "language": "python",
   "name": "python3"
  },
  "language_info": {
   "codemirror_mode": {
    "name": "ipython",
    "version": 3
   },
   "file_extension": ".py",
   "mimetype": "text/x-python",
   "name": "python",
   "nbconvert_exporter": "python",
   "pygments_lexer": "ipython3",
   "version": "3.10.8"
  }
 },
 "nbformat": 4,
 "nbformat_minor": 5
}

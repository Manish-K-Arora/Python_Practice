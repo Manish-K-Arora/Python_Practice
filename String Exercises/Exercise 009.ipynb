{
 "cells": [
  {
   "cell_type": "markdown",
   "id": "1a545b3e",
   "metadata": {},
   "source": [
    "# 9. convert all uppercase letters to lowercase and all lowercase letters to uppercase."
   ]
  },
  {
   "cell_type": "code",
   "execution_count": 1,
   "id": "a6955f36",
   "metadata": {},
   "outputs": [],
   "source": [
    "my_string = \"Lets start coding step by step.\"\n",
    "\n",
    "# print(my_string[])"
   ]
  },
  {
   "cell_type": "markdown",
   "id": "4a3368b9",
   "metadata": {},
   "source": [
    "# Solution:"
   ]
  },
  {
   "cell_type": "code",
   "execution_count": 2,
   "id": "57044d4c",
   "metadata": {},
   "outputs": [
    {
     "name": "stdout",
     "output_type": "stream",
     "text": [
      "lETS START CODING STEP BY STEP.\n"
     ]
    }
   ],
   "source": [
    "print(my_string.swapcase())"
   ]
  }
 ],
 "metadata": {
  "kernelspec": {
   "display_name": "Python 3 (ipykernel)",
   "language": "python",
   "name": "python3"
  },
  "language_info": {
   "codemirror_mode": {
    "name": "ipython",
    "version": 3
   },
   "file_extension": ".py",
   "mimetype": "text/x-python",
   "name": "python",
   "nbconvert_exporter": "python",
   "pygments_lexer": "ipython3",
   "version": "3.10.8"
  }
 },
 "nbformat": 4,
 "nbformat_minor": 5
}

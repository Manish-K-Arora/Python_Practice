{
 "cells": [
  {
   "cell_type": "markdown",
   "id": "4b171d63",
   "metadata": {},
   "source": [
    "# 1. Given the code below, insert the correct negative index in print statement in order to get the last character in the string."
   ]
  },
  {
   "cell_type": "code",
   "execution_count": 3,
   "id": "75652703",
   "metadata": {},
   "outputs": [],
   "source": [
    "my_string = \"I have been learning coding since years.\"\n",
    "\n",
    "print(my_string[])"
   ]
  },
  {
   "cell_type": "markdown",
   "id": "81a8aa40",
   "metadata": {},
   "source": [
    "# Solution:"
   ]
  },
  {
   "cell_type": "code",
   "execution_count": 6,
   "id": "48d3ac89",
   "metadata": {},
   "outputs": [
    {
     "name": "stdout",
     "output_type": "stream",
     "text": [
      ".\n"
     ]
    }
   ],
   "source": [
    "print(my_string[-1])"
   ]
  }
 ],
 "metadata": {
  "kernelspec": {
   "display_name": "Python 3 (ipykernel)",
   "language": "python",
   "name": "python3"
  },
  "language_info": {
   "codemirror_mode": {
    "name": "ipython",
    "version": 3
   },
   "file_extension": ".py",
   "mimetype": "text/x-python",
   "name": "python",
   "nbconvert_exporter": "python",
   "pygments_lexer": "ipython3",
   "version": "3.10.8"
  }
 },
 "nbformat": 4,
 "nbformat_minor": 5
}

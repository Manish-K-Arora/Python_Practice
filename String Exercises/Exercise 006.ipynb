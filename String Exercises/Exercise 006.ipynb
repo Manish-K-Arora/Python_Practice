{
 "cells": [
  {
   "cell_type": "markdown",
   "id": "272110e7",
   "metadata": {},
   "source": [
    "# 6. convert all letters in the string to uppercase."
   ]
  },
  {
   "cell_type": "code",
   "execution_count": 1,
   "id": "d8570b32",
   "metadata": {},
   "outputs": [],
   "source": [
    "my_string = \"Lets start coding step by step.\"\n",
    "\n",
    "# print(my_string[])"
   ]
  },
  {
   "cell_type": "markdown",
   "id": "5c0d242f",
   "metadata": {},
   "source": [
    "# Solution:"
   ]
  },
  {
   "cell_type": "code",
   "execution_count": 2,
   "id": "286f7e81",
   "metadata": {},
   "outputs": [
    {
     "name": "stdout",
     "output_type": "stream",
     "text": [
      "LETS START CODING STEP BY STEP.\n"
     ]
    }
   ],
   "source": [
    "print(my_string.upper())"
   ]
  }
 ],
 "metadata": {
  "kernelspec": {
   "display_name": "Python 3 (ipykernel)",
   "language": "python",
   "name": "python3"
  },
  "language_info": {
   "codemirror_mode": {
    "name": "ipython",
    "version": 3
   },
   "file_extension": ".py",
   "mimetype": "text/x-python",
   "name": "python",
   "nbconvert_exporter": "python",
   "pygments_lexer": "ipython3",
   "version": "3.10.8"
  }
 },
 "nbformat": 4,
 "nbformat_minor": 5
}

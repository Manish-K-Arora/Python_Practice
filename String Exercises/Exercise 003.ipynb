{
 "cells": [
  {
   "cell_type": "markdown",
   "id": "afb11732",
   "metadata": {},
   "source": [
    "# 3. Given the code below, insert the correct negative index in print statement in order to return the b character from the string."
   ]
  },
  {
   "cell_type": "code",
   "execution_count": 1,
   "id": "1c9e3e8f",
   "metadata": {},
   "outputs": [],
   "source": [
    "my_string = \"Lets start coding step by step.\"\n",
    "\n",
    "# print(my_string[])"
   ]
  },
  {
   "cell_type": "markdown",
   "id": "1a7be8dd",
   "metadata": {},
   "source": [
    "# Solution:"
   ]
  },
  {
   "cell_type": "code",
   "execution_count": 2,
   "id": "7da1e0c4",
   "metadata": {},
   "outputs": [
    {
     "name": "stdout",
     "output_type": "stream",
     "text": [
      "b\n"
     ]
    }
   ],
   "source": [
    "print(my_string[-8])"
   ]
  }
 ],
 "metadata": {
  "kernelspec": {
   "display_name": "Python 3 (ipykernel)",
   "language": "python",
   "name": "python3"
  },
  "language_info": {
   "codemirror_mode": {
    "name": "ipython",
    "version": 3
   },
   "file_extension": ".py",
   "mimetype": "text/x-python",
   "name": "python",
   "nbconvert_exporter": "python",
   "pygments_lexer": "ipython3",
   "version": "3.10.8"
  }
 },
 "nbformat": 4,
 "nbformat_minor": 5
}

{
 "cells": [
  {
   "cell_type": "markdown",
   "id": "a669ebd1",
   "metadata": {},
   "source": [
    "# 11. replace all the occurrences of letter i with the substring abc."
   ]
  },
  {
   "cell_type": "code",
   "execution_count": 1,
   "id": "9d18fe48",
   "metadata": {},
   "outputs": [],
   "source": [
    "my_string = \"Lets start coding in simple way.\"\n",
    "\n",
    "# print(my_string[])"
   ]
  },
  {
   "cell_type": "markdown",
   "id": "7e3d9e6a",
   "metadata": {},
   "source": [
    "# Solution:"
   ]
  },
  {
   "cell_type": "code",
   "execution_count": 2,
   "id": "de99cb96",
   "metadata": {},
   "outputs": [
    {
     "name": "stdout",
     "output_type": "stream",
     "text": [
      "Lets start codabcng abcn sabcmple way.\n"
     ]
    }
   ],
   "source": [
    "print(my_string.replace('i','abc'))"
   ]
  }
 ],
 "metadata": {
  "kernelspec": {
   "display_name": "Python 3 (ipykernel)",
   "language": "python",
   "name": "python3"
  },
  "language_info": {
   "codemirror_mode": {
    "name": "ipython",
    "version": 3
   },
   "file_extension": ".py",
   "mimetype": "text/x-python",
   "name": "python",
   "nbconvert_exporter": "python",
   "pygments_lexer": "ipython3",
   "version": "3.10.8"
  }
 },
 "nbformat": 4,
 "nbformat_minor": 5
}
